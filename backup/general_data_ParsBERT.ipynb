{
 "cells": [
  {
   "cell_type": "code",
   "execution_count": 1,
   "metadata": {},
   "outputs": [],
   "source": [
    "import pandas as pd\n",
    "from transformers import AutoConfig, AutoTokenizer, AutoModel\n",
    "from transformers import AdamW\n",
    "import tqdm\n",
    "import numpy as np\n",
    "import dataloaders\n",
    "preprocess = dataloaders.prepos()"
   ]
  },
  {
   "cell_type": "code",
   "execution_count": 2,
   "metadata": {},
   "outputs": [],
   "source": [
    "train = pd.read_csv('dataset/data/Train-word.csv', sep='\\t')\n",
    "validation = pd.read_csv('dataset/data/Val-word.csv', sep='\\t')"
   ]
  },
  {
   "cell_type": "code",
   "execution_count": 3,
   "metadata": {},
   "outputs": [],
   "source": [
    "# train.groupby('label').count()"
   ]
  },
  {
   "cell_type": "code",
   "execution_count": 4,
   "metadata": {},
   "outputs": [
    {
     "name": "stderr",
     "output_type": "stream",
     "text": [
      "Some weights of the model checkpoint at HooshvareLab/bert-base-parsbert-uncased were not used when initializing BertModel: ['cls.predictions.decoder.weight', 'cls.predictions.bias', 'cls.predictions.transform.LayerNorm.weight', 'cls.predictions.transform.dense.bias', 'cls.predictions.decoder.bias', 'cls.predictions.transform.LayerNorm.bias', 'cls.predictions.transform.dense.weight', 'cls.seq_relationship.bias', 'cls.seq_relationship.weight']\n",
      "- This IS expected if you are initializing BertModel from the checkpoint of a model trained on another task or with another architecture (e.g. initializing a BertForSequenceClassification model from a BertForPreTraining model).\n",
      "- This IS NOT expected if you are initializing BertModel from the checkpoint of a model that you expect to be exactly identical (initializing a BertForSequenceClassification model from a BertForSequenceClassification model).\n"
     ]
    }
   ],
   "source": [
    "config = AutoConfig.from_pretrained(\"HooshvareLab/bert-base-parsbert-uncased\")\n",
    "tokenizer = AutoTokenizer.from_pretrained(\"HooshvareLab/bert-base-parsbert-uncased\")\n",
    "ParsBERT = AutoModel.from_pretrained(\"HooshvareLab/bert-base-parsbert-uncased\")"
   ]
  },
  {
   "cell_type": "code",
   "execution_count": 5,
   "metadata": {},
   "outputs": [],
   "source": [
    "# using the tokens from BertTokenizer\n",
    "sep_token = tokenizer.sep_token\n",
    "cls_token = tokenizer.cls_token\n",
    "pad_token = tokenizer.pad_token\n",
    "unk_token = tokenizer.unk_token#using the token ids\n",
    "sep_token_idx = tokenizer.sep_token_id\n",
    "cls_token_idx = tokenizer.cls_token_id\n",
    "pad_token_idx = tokenizer.pad_token_id\n",
    "unk_token_idx = tokenizer.unk_token_id"
   ]
  },
  {
   "cell_type": "code",
   "execution_count": 6,
   "metadata": {},
   "outputs": [],
   "source": [
    "def transform_dtaframe(df:pd.DataFrame,\n",
    "                       preprocess):\n",
    "    df['INPUT_A'] = df['premise'].apply(preprocess.forward)\n",
    "    df['INPUT_B'] = df['hypothesis'].apply(preprocess.forward)\n",
    "    df['INPUT'] = df['INPUT_B'] + ' ' + sep_token + ' '  + df['INPUT_A']\n",
    "    return df\n",
    "train = transform_dtaframe(train,preprocess)\n",
    "validation = transform_dtaframe(validation,preprocess)\n",
    "\n",
    "# train"
   ]
  },
  {
   "cell_type": "code",
   "execution_count": 7,
   "metadata": {},
   "outputs": [],
   "source": [
    "# list(train['INPUT'])"
   ]
  },
  {
   "cell_type": "code",
   "execution_count": 8,
   "metadata": {},
   "outputs": [],
   "source": [
    "TOKENIZERS_PARALLELISM = False\n",
    "input = tokenizer(list(train['INPUT']),padding=True,truncation=True,max_length=150,return_tensors=\"pt\")['input_ids']\n",
    "input_validation= tokenizer(list(validation['INPUT']),padding=True,truncation=True,max_length=150,return_tensors=\"pt\")['input_ids']"
   ]
  },
  {
   "cell_type": "code",
   "execution_count": 9,
   "metadata": {},
   "outputs": [],
   "source": [
    "from    torch.utils.data           import Dataset,DataLoader\n",
    "import torch\n",
    "class dataset(Dataset):\n",
    "    def __init__(self , dataframe,input):\n",
    "        self.dataframe = dataframe\n",
    "        self.input = input\n",
    "        #  {0:\"contradiction\",1: \"entailment\", 2:\"neutral\"}\n",
    "        self.label_map = {'c':0,\n",
    "                          'e':1,\n",
    "                          'n':2}\n",
    "        \n",
    "    def __len__(self):\n",
    "        return len(self.dataframe)\n",
    "\n",
    "    def __getitem__(self, idx):\n",
    "        \n",
    "        label = self.label_map[self.dataframe['label'][idx]]\n",
    "        return self.input[idx] , torch.tensor(label)\n",
    "    \n",
    "def collate_fn(batch):\n",
    "    sources = [item[0] for item in batch]\n",
    "    targets = [item[1] for item in batch]\n",
    "              \n",
    "    sources = torch.nn.utils.rnn.pad_sequence(sources, batch_first=True)\n",
    "    # targets = torch.nn.utils.rnn.pad_sequence(targets, batch_first=True)\n",
    "    return sources, targets"
   ]
  },
  {
   "cell_type": "code",
   "execution_count": 10,
   "metadata": {},
   "outputs": [],
   "source": [
    "train_Set = dataset(train,input)\n",
    "Validation_Set = dataset(validation,input_validation)"
   ]
  },
  {
   "cell_type": "code",
   "execution_count": 11,
   "metadata": {},
   "outputs": [],
   "source": [
    "train_dataloader = DataLoader(\n",
    "                                                train_Set,\n",
    "                                                batch_size=64,\n",
    "                                                shuffle=True,\n",
    "                                                num_workers=2,\n",
    "                                                )\n",
    "validation_dataloader = DataLoader(\n",
    "                                                Validation_Set,\n",
    "                                                batch_size=64,\n",
    "                                                shuffle=True,\n",
    "                                                num_workers=2,\n",
    "                                                )"
   ]
  },
  {
   "cell_type": "code",
   "execution_count": 12,
   "metadata": {},
   "outputs": [],
   "source": [
    "class CustomClassifier(torch.nn.Module):\n",
    "    def __init__(self,):\n",
    "        super().__init__()\n",
    "        self.dropout = torch.nn.Dropout(0.7)\n",
    "        self.num_labels = 3\n",
    "        self.classifier = torch.nn.Linear(768, self.num_labels)\n",
    "        \n",
    "    def forward(self, input):\n",
    "        pooled_output = self.dropout(input)\n",
    "        logits = self.classifier(pooled_output)\n",
    "\n",
    "        return logits\n",
    "\n",
    "\n",
    "classifier = CustomClassifier()"
   ]
  },
  {
   "cell_type": "code",
   "execution_count": 17,
   "metadata": {},
   "outputs": [],
   "source": [
    "num_epochs = 5\n"
   ]
  },
  {
   "cell_type": "code",
   "execution_count": 18,
   "metadata": {},
   "outputs": [
    {
     "data": {
      "text/plain": [
       "CustomClassifier(\n",
       "  (dropout): Dropout(p=0.7, inplace=False)\n",
       "  (classifier): Linear(in_features=768, out_features=3, bias=True)\n",
       ")"
      ]
     },
     "execution_count": 18,
     "metadata": {},
     "output_type": "execute_result"
    }
   ],
   "source": [
    "device = 'cuda'\n",
    "\n",
    "\n",
    "optimizer_Bert = torch.optim.AdamW(ParsBERT.parameters(), lr=2e-6)\n",
    "\"\"\"\n",
    "1.lr=2e-5\n",
    "\n",
    "\"\"\"\n",
    "total_steps = len(train_dataloader) * num_epochs\n",
    "scheduler = torch.optim.lr_scheduler.OneCycleLR(optimizer_Bert, max_lr=5e-5, steps_per_epoch=len(train_dataloader), epochs=num_epochs)\n",
    "\n",
    "optimizer_class = torch.optim.Adam(classifier.parameters(),lr=0.00005)\n",
    "\n",
    "\n",
    "criterion = torch.nn.CrossEntropyLoss()\n",
    "\n",
    "ParsBERT.to(device)\n",
    "classifier.to(device)\n"
   ]
  },
  {
   "cell_type": "code",
   "execution_count": 15,
   "metadata": {},
   "outputs": [],
   "source": [
    "import os\n",
    "os.environ[\"TOKENIZERS_PARALLELISM\"] = \"false\""
   ]
  },
  {
   "cell_type": "code",
   "execution_count": 19,
   "metadata": {},
   "outputs": [
    {
     "name": "stderr",
     "output_type": "stream",
     "text": [
      "114it [03:11,  1.68s/it]"
     ]
    },
    {
     "name": "stdout",
     "output_type": "stream",
     "text": [
      "tensor(98.6431) tensor(0.0126, device='cuda:0', grad_fn=<NllLossBackward0>)\n"
     ]
    },
    {
     "name": "stderr",
     "output_type": "stream",
     "text": [
      "\n",
      "25it [00:17,  1.45it/s]"
     ]
    },
    {
     "name": "stdout",
     "output_type": "stream",
     "text": [
      "tensor(80.3125) tensor(0.0087, device='cuda:0')\n",
      "batch is 0\n"
     ]
    },
    {
     "name": "stderr",
     "output_type": "stream",
     "text": [
      "\n",
      "114it [03:12,  1.69s/it]"
     ]
    },
    {
     "name": "stdout",
     "output_type": "stream",
     "text": [
      "tensor(96.3026) tensor(0.0959, device='cuda:0', grad_fn=<NllLossBackward0>)\n"
     ]
    },
    {
     "name": "stderr",
     "output_type": "stream",
     "text": [
      "\n",
      "25it [00:17,  1.45it/s]"
     ]
    },
    {
     "name": "stdout",
     "output_type": "stream",
     "text": [
      "tensor(73.6250) tensor(3.4477, device='cuda:0')\n",
      "batch is 1\n"
     ]
    },
    {
     "name": "stderr",
     "output_type": "stream",
     "text": [
      "\n",
      "18it [00:32,  1.79s/it]\n"
     ]
    },
    {
     "ename": "KeyboardInterrupt",
     "evalue": "",
     "output_type": "error",
     "traceback": [
      "\u001b[0;31m---------------------------------------------------------------------------\u001b[0m",
      "\u001b[0;31mKeyboardInterrupt\u001b[0m                         Traceback (most recent call last)",
      "Cell \u001b[0;32mIn[19], line 21\u001b[0m\n\u001b[1;32m     17\u001b[0m \u001b[39m# print(list_accu[i])\u001b[39;00m\n\u001b[1;32m     20\u001b[0m loss \u001b[39m=\u001b[39m criterion(pred,labels)\n\u001b[0;32m---> 21\u001b[0m loss\u001b[39m.\u001b[39;49mbackward()\n\u001b[1;32m     24\u001b[0m optimizer_Bert\u001b[39m.\u001b[39mstep()\n\u001b[1;32m     25\u001b[0m optimizer_class\u001b[39m.\u001b[39mstep()\n",
      "File \u001b[0;32m~/anaconda3/envs/torch3.9/lib/python3.9/site-packages/torch/_tensor.py:487\u001b[0m, in \u001b[0;36mTensor.backward\u001b[0;34m(self, gradient, retain_graph, create_graph, inputs)\u001b[0m\n\u001b[1;32m    477\u001b[0m \u001b[39mif\u001b[39;00m has_torch_function_unary(\u001b[39mself\u001b[39m):\n\u001b[1;32m    478\u001b[0m     \u001b[39mreturn\u001b[39;00m handle_torch_function(\n\u001b[1;32m    479\u001b[0m         Tensor\u001b[39m.\u001b[39mbackward,\n\u001b[1;32m    480\u001b[0m         (\u001b[39mself\u001b[39m,),\n\u001b[0;32m   (...)\u001b[0m\n\u001b[1;32m    485\u001b[0m         inputs\u001b[39m=\u001b[39minputs,\n\u001b[1;32m    486\u001b[0m     )\n\u001b[0;32m--> 487\u001b[0m torch\u001b[39m.\u001b[39;49mautograd\u001b[39m.\u001b[39;49mbackward(\n\u001b[1;32m    488\u001b[0m     \u001b[39mself\u001b[39;49m, gradient, retain_graph, create_graph, inputs\u001b[39m=\u001b[39;49minputs\n\u001b[1;32m    489\u001b[0m )\n",
      "File \u001b[0;32m~/anaconda3/envs/torch3.9/lib/python3.9/site-packages/torch/autograd/__init__.py:200\u001b[0m, in \u001b[0;36mbackward\u001b[0;34m(tensors, grad_tensors, retain_graph, create_graph, grad_variables, inputs)\u001b[0m\n\u001b[1;32m    195\u001b[0m     retain_graph \u001b[39m=\u001b[39m create_graph\n\u001b[1;32m    197\u001b[0m \u001b[39m# The reason we repeat same the comment below is that\u001b[39;00m\n\u001b[1;32m    198\u001b[0m \u001b[39m# some Python versions print out the first line of a multi-line function\u001b[39;00m\n\u001b[1;32m    199\u001b[0m \u001b[39m# calls in the traceback and some print out the last line\u001b[39;00m\n\u001b[0;32m--> 200\u001b[0m Variable\u001b[39m.\u001b[39;49m_execution_engine\u001b[39m.\u001b[39;49mrun_backward(  \u001b[39m# Calls into the C++ engine to run the backward pass\u001b[39;49;00m\n\u001b[1;32m    201\u001b[0m     tensors, grad_tensors_, retain_graph, create_graph, inputs,\n\u001b[1;32m    202\u001b[0m     allow_unreachable\u001b[39m=\u001b[39;49m\u001b[39mTrue\u001b[39;49;00m, accumulate_grad\u001b[39m=\u001b[39;49m\u001b[39mTrue\u001b[39;49;00m)\n",
      "\u001b[0;31mKeyboardInterrupt\u001b[0m: "
     ]
    }
   ],
   "source": [
    "for batch in range(num_epochs):\n",
    "    list_accu_train = torch.zeros(size=[len(train_dataloader)])\n",
    "    list_accu_validation = torch.zeros(size=[len(validation_dataloader)])\n",
    "\n",
    "    for i,(sentences,labels) in tqdm.tqdm(enumerate(train_dataloader)):\n",
    "        optimizer_Bert.zero_grad()\n",
    "        optimizer_class.zero_grad()\n",
    "        \n",
    "        sentences , labels= sentences.to(device) , labels.to(device)\n",
    "        outputs = ParsBERT(sentences)\n",
    "        pred = classifier(outputs.pooler_output)\n",
    "        \n",
    "        \n",
    "        \n",
    "        # accu = \n",
    "        list_accu_train[i] = ((pred.argmax(dim=1)==labels).sum()/len(labels))*100\n",
    "        # print(list_accu[i])\n",
    "\n",
    "\n",
    "        loss = criterion(pred,labels)\n",
    "        loss.backward()\n",
    "        \n",
    "        \n",
    "        optimizer_Bert.step()\n",
    "        optimizer_class.step()\n",
    "        \n",
    "        scheduler.step()\n",
    "\n",
    "    print(list_accu_train.mean(),loss)\n",
    "    \n",
    "    with torch.inference_mode():\n",
    "        ParsBERT.eval()\n",
    "        classifier.eval()\n",
    "        for i,(sentences,labels) in tqdm.tqdm(enumerate(validation_dataloader)):\n",
    "            optimizer_Bert.zero_grad()\n",
    "            optimizer_class.zero_grad()\n",
    "            \n",
    "            sentences , labels= sentences.to(device) , labels.to(device)\n",
    "            outputs = ParsBERT(sentences)\n",
    "            pred = classifier(outputs.pooler_output)\n",
    "            \n",
    "            # accu = \n",
    "            list_accu_validation[i] = ((pred.argmax(dim=1)==labels).sum()/len(labels))*100\n",
    "            # print(list_accu[i])\n",
    "\n",
    "\n",
    "            loss = criterion(pred,labels)\n",
    "    print(list_accu_validation.mean(),loss)\n",
    "    print(f\"batch is {batch}\")\n",
    "        \n"
   ]
  }
 ],
 "metadata": {
  "kernelspec": {
   "display_name": "torch3.9",
   "language": "python",
   "name": "python3"
  },
  "language_info": {
   "codemirror_mode": {
    "name": "ipython",
    "version": 3
   },
   "file_extension": ".py",
   "mimetype": "text/x-python",
   "name": "python",
   "nbconvert_exporter": "python",
   "pygments_lexer": "ipython3",
   "version": "3.9.16"
  },
  "orig_nbformat": 4
 },
 "nbformat": 4,
 "nbformat_minor": 2
}
