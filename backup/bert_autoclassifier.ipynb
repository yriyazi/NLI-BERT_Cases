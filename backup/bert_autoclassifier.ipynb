{
 "cells": [
  {
   "cell_type": "code",
   "execution_count": 1,
   "metadata": {},
   "outputs": [],
   "source": [
    "import torch\n",
    "from transformers import AutoTokenizer, AutoModelForSequenceClassification"
   ]
  },
  {
   "cell_type": "code",
   "execution_count": 2,
   "metadata": {},
   "outputs": [
    {
     "name": "stderr",
     "output_type": "stream",
     "text": [
      "Some weights of the model checkpoint at bert-base-multilingual-cased were not used when initializing BertForSequenceClassification: ['cls.predictions.transform.dense.bias', 'cls.predictions.bias', 'cls.predictions.transform.LayerNorm.bias', 'cls.seq_relationship.weight', 'cls.seq_relationship.bias', 'cls.predictions.transform.LayerNorm.weight', 'cls.predictions.transform.dense.weight', 'cls.predictions.decoder.weight']\n",
      "- This IS expected if you are initializing BertForSequenceClassification from the checkpoint of a model trained on another task or with another architecture (e.g. initializing a BertForSequenceClassification model from a BertForPreTraining model).\n",
      "- This IS NOT expected if you are initializing BertForSequenceClassification from the checkpoint of a model that you expect to be exactly identical (initializing a BertForSequenceClassification model from a BertForSequenceClassification model).\n",
      "Some weights of BertForSequenceClassification were not initialized from the model checkpoint at bert-base-multilingual-cased and are newly initialized: ['classifier.bias', 'classifier.weight']\n",
      "You should probably TRAIN this model on a down-stream task to be able to use it for predictions and inference.\n"
     ]
    }
   ],
   "source": [
    "# Load the pre-trained model and tokenizer\n",
    "model_name  = \"bert-base-multilingual-cased\"\n",
    "tokenizer   = AutoTokenizer.from_pretrained(model_name)\n",
    "model       = AutoModelForSequenceClassification.from_pretrained(model_name, num_labels=3)  # 3 labels for MNLI (entailment, contradiction, neutral)"
   ]
  },
  {
   "cell_type": "code",
   "execution_count": 3,
   "metadata": {},
   "outputs": [],
   "source": [
    "\n",
    "# Example input sentences\n",
    "sentence1 = \"The cat sat on the mat.\"\n",
    "sentence2 = \"The cat is on the mat.\"\n",
    "\n",
    "# Tokenize input sentences\n",
    "encoded_input = tokenizer(sentence1, sentence2, padding=True, truncation=True, return_tensors=\"pt\")\n",
    "\n",
    "# Perform inference"
   ]
  },
  {
   "cell_type": "code",
   "execution_count": 10,
   "metadata": {},
   "outputs": [
    {
     "name": "stdout",
     "output_type": "stream",
     "text": [
      "Sentence pair: The cat sat on the mat. ||| The cat is on the mat.\n",
      "Predicted label: contradiction\n",
      "Probabilities: tensor([0.2940, 0.3742, 0.3319])\n",
      "\n"
     ]
    }
   ],
   "source": [
    "with torch.no_grad():\n",
    "    model_output = model(encoded_input['input_ids'])\n",
    "\n",
    "# Get predicted probabilities and labels\n",
    "logits = model_output.logits\n",
    "predicted_probabilities = torch.softmax(logits, dim=1)\n",
    "predicted_labels = torch.argmax(predicted_probabilities, dim=1)\n",
    "\n",
    "# Print predicted labels and probabilities\n",
    "label_names = ['entailment', 'contradiction', 'neutral']\n",
    "for i, label in enumerate(predicted_labels):\n",
    "    print(f\"Sentence pair: {sentence1} ||| {sentence2}\")\n",
    "    print(f\"Predicted label: {label_names[label]}\")\n",
    "    print(f\"Probabilities: {predicted_probabilities[i]}\")\n",
    "    print()"
   ]
  }
 ],
 "metadata": {
  "kernelspec": {
   "display_name": "torch3.9",
   "language": "python",
   "name": "python3"
  },
  "language_info": {
   "codemirror_mode": {
    "name": "ipython",
    "version": 3
   },
   "file_extension": ".py",
   "mimetype": "text/x-python",
   "name": "python",
   "nbconvert_exporter": "python",
   "pygments_lexer": "ipython3",
   "version": "3.9.16"
  },
  "orig_nbformat": 4
 },
 "nbformat": 4,
 "nbformat_minor": 2
}
